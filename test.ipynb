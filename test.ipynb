{
  "nbformat": 4,
  "nbformat_minor": 0,
  "metadata": {
    "colab": {
      "provenance": [],
      "authorship_tag": "ABX9TyM6eU9OJzJlXVKlnej5dqb6",
      "include_colab_link": true
    },
    "kernelspec": {
      "name": "python3",
      "display_name": "Python 3"
    },
    "language_info": {
      "name": "python"
    }
  },
  "cells": [
    {
      "cell_type": "markdown",
      "metadata": {
        "id": "view-in-github",
        "colab_type": "text"
      },
      "source": [
        "<a href=\"https://colab.research.google.com/github/monkrus/nlp_jsgf_rus/blob/main/test.ipynb\" target=\"_parent\"><img src=\"https://colab.research.google.com/assets/colab-badge.svg\" alt=\"Open In Colab\"/></a>"
      ]
    },
    {
      "cell_type": "code",
      "execution_count": null,
      "metadata": {
        "colab": {
          "base_uri": "https://localhost:8080/"
        },
        "id": "p9kXnjudc8EE",
        "outputId": "7850f403-9d24-4a33-feec-af30b41b3782"
      },
      "outputs": [
        {
          "output_type": "stream",
          "name": "stdout",
          "text": [
            "Requirement already satisfied: pyjsgf in /usr/local/lib/python3.10/dist-packages (1.9.0)\n",
            "Requirement already satisfied: pyparsing in /usr/local/lib/python3.10/dist-packages (from pyjsgf) (3.1.1)\n",
            "Requirement already satisfied: six in /usr/local/lib/python3.10/dist-packages (from pyjsgf) (1.16.0)\n"
          ]
        }
      ],
      "source": [
        "# Make sure extend.txt is in the same directory as this notebook\n",
        "# Install the necessary package\n",
        "!pip install pyjsgf\n",
        "from jsgf import parse_grammar_string"
      ]
    },
    {
      "cell_type": "code",
      "source": [
        "# Function to load the grammar from a file\n",
        "def load_grammar(file_path):\n",
        "    with open(file_path, 'r') as file:\n",
        "        return file.read()"
      ],
      "metadata": {
        "id": "Wx5Oylq5daSO"
      },
      "execution_count": null,
      "outputs": []
    },
    {
      "cell_type": "code",
      "source": [
        "# Load the grammar from the file\n",
        "grammar_file_path = \"/content/sample_data/extend.txt\"  # Update with the correct file path\n",
        "grammar_string = load_grammar(grammar_file_path)\n"
      ],
      "metadata": {
        "id": "5EZJ-bwoKaMo"
      },
      "execution_count": null,
      "outputs": []
    },
    {
      "cell_type": "code",
      "source": [
        "# Function to parse the grammar from a string\n",
        "def parse_grammar(grammar_string):\n",
        "    try:\n",
        "        return parse_grammar_string(grammar_string)\n",
        "    except Exception as e:\n",
        "        print(f\"Unable to parse grammar: {e}\")\n",
        "        return None"
      ],
      "metadata": {
        "id": "jUujEJctEDD4"
      },
      "execution_count": null,
      "outputs": []
    },
    {
      "cell_type": "code",
      "source": [
        "# Load the grammar string\n",
        "grammar_file_path = \"/content/sample_data/extend.txt\"  # Replace with your actual file path\n",
        "grammar_string = load_grammar(grammar_file_path)\n",
        "if grammar_string:\n",
        "    print(\"Grammar string loaded successfully.\")\n"
      ],
      "metadata": {
        "colab": {
          "base_uri": "https://localhost:8080/"
        },
        "id": "NIa73aqIEDH2",
        "outputId": "9e5d0a3c-b687-4a25-873d-38225a840fc6"
      },
      "execution_count": null,
      "outputs": [
        {
          "output_type": "stream",
          "name": "stdout",
          "text": [
            "Grammar string loaded successfully.\n"
          ]
        }
      ]
    },
    {
      "cell_type": "code",
      "source": [
        "# Parse the grammar\n",
        "grammar = parse_grammar(grammar_string)\n",
        "if grammar:\n",
        "    print(\"Grammar parsed successfully.\")\n",
        "\n"
      ],
      "metadata": {
        "colab": {
          "base_uri": "https://localhost:8080/"
        },
        "id": "QqV0eweQEDLk",
        "outputId": "dacf4ca0-f07b-4999-c0db-7d40bd4a2ff8"
      },
      "execution_count": null,
      "outputs": [
        {
          "output_type": "stream",
          "name": "stdout",
          "text": [
            "Grammar parsed successfully.\n"
          ]
        }
      ]
    },
    {
      "cell_type": "code",
      "source": [
        "# Function to generate utterances\n",
        "def generate_utterances(grammar, num_utterances=100):\n",
        "    utterances = []\n",
        "    for i in range(num_utterances):\n",
        "        utterances.append(grammar.rules[0].generate())\n",
        "    return set(utterances)"
      ],
      "metadata": {
        "id": "Y4LwPRorEDUk"
      },
      "execution_count": null,
      "outputs": []
    },
    {
      "cell_type": "code",
      "source": [
        "# Generate utterances\n",
        "num_utterances_to_generate = 100  # Adjust the number as needed\n",
        "utterances = generate_utterances(grammar, num_utterances_to_generate)\n",
        "if utterances:\n",
        "    print(\"Utterances generated successfully.\")\n",
        "    print(*utterances, sep='\\n')"
      ],
      "metadata": {
        "colab": {
          "base_uri": "https://localhost:8080/"
        },
        "id": "6OlnZcA6EDXf",
        "outputId": "0a809518-5b20-46a7-e8bb-740932d185d4"
      },
      "execution_count": null,
      "outputs": [
        {
          "output_type": "stream",
          "name": "stdout",
          "text": [
            "Utterances generated successfully.\n",
            "can you play hey jude\n",
            "put on the beatles on\n",
            "put on play me ummagumma lady gaga\n",
            "can you put on radiohead\n",
            "put on paranoid android\n",
            "play put pink floyd\n",
            "can you put on comfortably numb\n",
            "put on put pink floyd\n",
            "can you play pink floyd\n",
            "put on ummagumma by radiohead\n",
            "can you put on the beatles\n",
            "play play me ummagumma by the beatles\n",
            "put on i want to listen to jazz\n",
            "play comfortably numb\n",
            "can you put on jazz music\n",
            "put on pink floyd on\n",
            "put on hey jude\n",
            "can you play ummagumma by radiohead\n",
            "can you play paranoid android\n",
            "can you put on pink floyd\n",
            "put on play me ummagumma by lady gaga\n",
            "can you play jazz\n",
            "put on i want to listen to jazz music\n",
            "play hey jude\n",
            "can you put on i want to listen to jazz music\n",
            "can you put on i want to listen to jazz\n",
            "can you play the beatles on\n",
            "can you put on ummagumma lady gaga\n",
            "can you put on pink floyd on\n",
            "put on ummagumma by lady gaga\n",
            "can you play put the beatles on\n",
            "play put lady gaga\n",
            "can you put on put the beatles on\n",
            "can you put on lady gaga\n",
            "play i want to listen to jazz\n",
            "can you play play me ummagumma pink floyd\n",
            "play put radiohead\n",
            "put on ummagumma lady gaga\n",
            "play jazz\n",
            "put on jazz\n",
            "can you play ummagumma by lady gaga\n",
            "can you play i want to listen to jazz music\n",
            "play ummagumma radiohead\n",
            "play jazz music\n",
            "play play me ummagumma lady gaga\n",
            "put on put lady gaga\n",
            "play ummagumma pink floyd\n",
            "can you put on paranoid android\n",
            "play put the beatles on\n",
            "can you play let it be\n",
            "can you put on put the beatles\n",
            "put on put the beatles\n",
            "can you play jazz music\n",
            "play the beatles\n",
            "play lady gaga\n",
            "put on the beatles\n",
            "can you play play me ummagumma by pink floyd\n",
            "can you put on play me ummagumma lady gaga\n",
            "play ummagumma lady gaga\n",
            "put on jazz music\n",
            "put on pink floyd\n",
            "can you put on put radiohead on\n",
            "can you play radiohead on\n",
            "can you play put pink floyd on\n",
            "can you play play me ummagumma by radiohead\n",
            "put on play me ummagumma the beatles\n",
            "can you play play me ummagumma lady gaga\n",
            "play play me ummagumma pink floyd\n"
          ]
        }
      ]
    },
    {
      "cell_type": "code",
      "source": [
        "# Function to save utterances to a file\n",
        "def save_utterances(utterances, file_path):\n",
        "    with open(file_path, 'w') as f:\n",
        "        for utter in utterances:\n",
        "            f.write(f\"{utter}\\n\")"
      ],
      "metadata": {
        "id": "koTl4MiocTAx"
      },
      "execution_count": null,
      "outputs": []
    },
    {
      "cell_type": "code",
      "source": [
        "# Save the utterances to a file\n",
        "output_file_path = \"generated_utterances_en.txt\"  # Update with your desired file path\n",
        "save_utterances(utterances, output_file_path)\n",
        "print(\"Utterances saved to file:\", output_file_path)"
      ],
      "metadata": {
        "colab": {
          "base_uri": "https://localhost:8080/"
        },
        "id": "LHKvQn0RcZXi",
        "outputId": "38707d69-69da-46c5-a030-9d41a94c9dab"
      },
      "execution_count": null,
      "outputs": [
        {
          "output_type": "stream",
          "name": "stdout",
          "text": [
            "Utterances saved to file: generated_utterances_en.txt\n"
          ]
        }
      ]
    }
  ]
}