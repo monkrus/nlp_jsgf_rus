{
  "nbformat": 4,
  "nbformat_minor": 0,
  "metadata": {
    "colab": {
      "provenance": [],
      "authorship_tag": "ABX9TyMNkCEks601fgF8V1kCTdYi",
      "include_colab_link": true
    },
    "kernelspec": {
      "name": "python3",
      "display_name": "Python 3"
    },
    "language_info": {
      "name": "python"
    }
  },
  "cells": [
    {
      "cell_type": "markdown",
      "metadata": {
        "id": "view-in-github",
        "colab_type": "text"
      },
      "source": [
        "<a href=\"https://colab.research.google.com/github/monkrus/nlp_jsgf_rus/blob/main/Grammar.ipynb\" target=\"_parent\"><img src=\"https://colab.research.google.com/assets/colab-badge.svg\" alt=\"Open In Colab\"/></a>"
      ]
    },
    {
      "cell_type": "code",
      "execution_count": null,
      "metadata": {
        "id": "Wh2T7fiMY3gv"
      },
      "outputs": [],
      "source": [
        "# install packages\n",
        "!pip install pyjsgf"
      ]
    },
    {
      "cell_type": "code",
      "source": [
        "from jsgf import parse_grammar_string"
      ],
      "metadata": {
        "id": "Zf5lswEyY6C5"
      },
      "execution_count": null,
      "outputs": []
    },
    {
      "cell_type": "code",
      "source": [
        "# load grammar file\n",
        "with open('/content/sample_data/extend.txt', 'r') as file:\n",
        "    strings = file.read()"
      ],
      "metadata": {
        "id": "KwZGajlSY6Pw"
      },
      "execution_count": null,
      "outputs": []
    },
    {
      "cell_type": "code",
      "source": [
        "# parse jsgf grammar\n",
        "try:\n",
        "    grammar = parse_grammar_string(strings)\n",
        "except:\n",
        "    print(\"Can not parse the grammar file\")"
      ],
      "metadata": {
        "id": "99WBOVquZwIF"
      },
      "execution_count": null,
      "outputs": []
    },
    {
      "cell_type": "code",
      "source": [
        "# print grammar rules\n",
        "print(\"The grammar rules in\" + ' extend.txt' + \" are:\")\n",
        "for count, rule in enumerate(grammar.rules):\n",
        "    print(count, rule.name)"
      ],
      "metadata": {
        "id": "YMMdbOHIZzln"
      },
      "execution_count": null,
      "outputs": []
    },
    {
      "cell_type": "code",
      "source": [
        "# generate utterances\n",
        "NUM_UTTERS_TO_GENERATE = 500\n",
        "\n",
        "def generate_and_print_utterances(grammar, num_utters):\n",
        "    gen_utters = {grammar.rules[0].generate() for _ in range(num_utters)}\n",
        "    print(*gen_utters, sep='\\n')\n",
        "\n",
        "# Call the function\n",
        "generate_and_print_utterances(grammar, NUM_UTTERS_TO_GENERATE)\n"
      ],
      "metadata": {
        "id": "_mDLY3ShZ8AE"
      },
      "execution_count": null,
      "outputs": []
    },
    {
      "cell_type": "code",
      "source": [
        " # open and read file, store in a variable\n",
        " with open('/content/sample_data/extend.txt', 'r') as file:\n",
        "    strings = file.read()"
      ],
      "metadata": {
        "id": "vCIwOTxUaFvT"
      },
      "execution_count": null,
      "outputs": []
    },
    {
      "cell_type": "code",
      "source": [
        "# open and write to file\n",
        "with open('extend,txt' + \"generated_eng.txt\", 'w') as f:\n",
        "    for utter in gen_utters:\n",
        "        f.write(\"%s\\n\" % utter)\n",
        "        print(utter)"
      ],
      "metadata": {
        "id": "UReHL9xLaM7D",
        "colab": {
          "base_uri": "https://localhost:8080/"
        },
        "outputId": "d7875e18-f3ff-4832-d678-6c66d92cb709"
      },
      "execution_count": 60,
      "outputs": [
        {
          "output_type": "stream",
          "name": "stdout",
          "text": [
            "can you put on i want to listen to jazz\n",
            "can you play jazz\n",
            "play radiohead\n",
            "can you put on ummagumma by radiohead\n",
            "put on lady gaga\n",
            "play put lady gaga on\n",
            "put on i want to listen to jazz music\n",
            "play i want to listen to jazz\n",
            "can you put on hey jude\n",
            "put on radiohead\n",
            "put on jazz music\n",
            "can you play i want to listen to jazz\n",
            "can you play put lady gaga\n",
            "play ummagumma by radiohead\n",
            "play jazz music\n",
            "can you put on jazz\n",
            "can you put on lady gaga\n",
            "play jazz music\n",
            "play put radiohead\n",
            "can you put on the beatles\n",
            "play pink floyd\n",
            "play ummagumma lady gaga\n",
            "play lady gaga on\n",
            "put on put the beatles\n",
            "can you play play me ummagumma pink floyd\n",
            "can you play ummagumma by lady gaga\n",
            "can you put on pink floyd\n",
            "can you play the beatles\n",
            "play play me ummagumma by pink floyd\n",
            "play ummagumma radiohead\n",
            "play pink floyd\n",
            "can you play the beatles\n",
            "put on i want to listen to jazz music\n",
            "play comfortably numb\n",
            "can you put on i want to listen to jazz\n",
            "put on lady gaga\n",
            "can you play play me ummagumma by radiohead\n",
            "put on hey jude\n",
            "can you play paranoid android\n",
            "can you put on ummagumma by pink floyd\n",
            "put on i want to listen to jazz\n",
            "can you play i want to listen to jazz\n",
            "can you put on radiohead on\n",
            "put on put lady gaga\n",
            "put on play me ummagumma by lady gaga\n",
            "play play me ummagumma by pink floyd\n",
            "can you put on lady gaga\n",
            "can you put on lady gaga\n",
            "can you play i want to listen to jazz\n",
            "play let it be\n",
            "can you put on pink floyd on\n",
            "can you put on put the beatles on\n",
            "can you put on put radiohead on\n",
            "can you put on hey jude\n",
            "can you play play me ummagumma by pink floyd\n",
            "play radiohead\n",
            "can you put on i want to listen to jazz\n",
            "put on ummagumma by radiohead\n",
            "can you put on jazz\n",
            "put on hey jude\n",
            "can you put on i want to listen to jazz music\n",
            "can you put on put radiohead on\n",
            "can you put on i want to listen to jazz music\n",
            "put on play me ummagumma by the beatles\n",
            "can you play lady gaga\n",
            "can you play the beatles\n",
            "put on ummagumma lady gaga\n",
            "can you put on i want to listen to jazz\n",
            "can you play hey jude\n",
            "can you put on play me ummagumma by lady gaga\n",
            "play paranoid android\n",
            "put on ummagumma lady gaga\n",
            "put on paranoid android\n",
            "can you play paranoid android\n",
            "play put the beatles on\n",
            "put on jazz\n",
            "can you put on pink floyd\n",
            "can you put on i want to listen to jazz\n",
            "put on play me ummagumma pink floyd\n",
            "put on play me ummagumma the beatles\n",
            "can you play put the beatles\n",
            "play radiohead\n",
            "can you play put pink floyd\n",
            "can you play the beatles\n",
            "can you play lady gaga\n",
            "can you play put radiohead\n",
            "can you play play me ummagumma pink floyd\n",
            "put on jazz\n",
            "can you put on jazz music\n",
            "can you play ummagumma by pink floyd\n",
            "put on put radiohead\n",
            "can you put on jazz music\n",
            "put on put pink floyd\n",
            "put on put radiohead on\n",
            "can you play paranoid android\n",
            "put on put lady gaga\n",
            "can you put on ummagumma by radiohead\n",
            "can you play jazz\n",
            "can you play radiohead on\n",
            "put on lady gaga on\n"
          ]
        }
      ]
    }
  ]
}