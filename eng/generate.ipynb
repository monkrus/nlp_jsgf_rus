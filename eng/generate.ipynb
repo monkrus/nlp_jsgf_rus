{
  "nbformat": 4,
  "nbformat_minor": 0,
  "metadata": {
    "colab": {
      "provenance": [],
      "authorship_tag": "ABX9TyMVxKJnZO1l1IMe7XblQ9Tq",
      "include_colab_link": true
    },
    "kernelspec": {
      "name": "python3",
      "display_name": "Python 3"
    },
    "language_info": {
      "name": "python"
    }
  },
  "cells": [
    {
      "cell_type": "markdown",
      "metadata": {
        "id": "view-in-github",
        "colab_type": "text"
      },
      "source": [
        "<a href=\"https://colab.research.google.com/github/monkrus/nlp_jsgf_rus/blob/main/generate.ipynb\" target=\"_parent\"><img src=\"https://colab.research.google.com/assets/colab-badge.svg\" alt=\"Open In Colab\"/></a>"
      ]
    },
    {
      "cell_type": "code",
      "execution_count": 28,
      "metadata": {
        "id": "Wh2T7fiMY3gv",
        "colab": {
          "base_uri": "https://localhost:8080/"
        },
        "outputId": "023dc8a1-73d9-48ff-d19a-ee65afec8c2c"
      },
      "outputs": [
        {
          "output_type": "stream",
          "name": "stdout",
          "text": [
            "Requirement already satisfied: pyjsgf in /usr/local/lib/python3.10/dist-packages (1.9.0)\n",
            "Requirement already satisfied: pyparsing in /usr/local/lib/python3.10/dist-packages (from pyjsgf) (3.1.1)\n",
            "Requirement already satisfied: six in /usr/local/lib/python3.10/dist-packages (from pyjsgf) (1.16.0)\n"
          ]
        }
      ],
      "source": [
        "# install packages\n",
        "!pip install pyjsgf\n",
        "from jsgf import parse_grammar_string\n"
      ]
    },
    {
      "cell_type": "code",
      "source": [
        "# Function to load the grammar from a file\n",
        "def load_grammar(file_path):\n",
        "    with open(file_path, 'r') as file:\n",
        "        return file.read()\n"
      ],
      "metadata": {
        "id": "1ba4LNoaOVML"
      },
      "execution_count": 29,
      "outputs": []
    },
    {
      "cell_type": "code",
      "source": [
        "# Load the grammar from the file\n",
        "grammar_file_path = \"/content/sample_data/extend.txt\"  # Update with the correct file path\n",
        "grammar_string = load_grammar(grammar_file_path)\n"
      ],
      "metadata": {
        "id": "99WBOVquZwIF"
      },
      "execution_count": 30,
      "outputs": []
    },
    {
      "cell_type": "code",
      "source": [
        "# Function to parse the grammar from a string\n",
        "def parse_grammar(grammar_string):\n",
        "    try:\n",
        "        return parse_grammar_string(grammar_string)\n",
        "    except Exception as e:\n",
        "        print(f\"Unable to parse grammar: {e}\")\n",
        "        return None\n"
      ],
      "metadata": {
        "id": "3NJxVcotNAGP"
      },
      "execution_count": 31,
      "outputs": []
    },
    {
      "cell_type": "code",
      "source": [
        "# Parse the grammar\n",
        "grammar = parse_grammar(grammar_string)\n",
        "if grammar:\n",
        "    print(\"Grammar parsed successfully.\")\n"
      ],
      "metadata": {
        "colab": {
          "base_uri": "https://localhost:8080/"
        },
        "id": "u-eB1QfIEpwe",
        "outputId": "91d84cee-d6fd-4a67-a6b2-c262262e7daa"
      },
      "execution_count": 32,
      "outputs": [
        {
          "output_type": "stream",
          "name": "stdout",
          "text": [
            "Grammar parsed successfully.\n"
          ]
        }
      ]
    },
    {
      "cell_type": "code",
      "source": [
        "# Function to generate utterances\n",
        "def generate_utterances(grammar, num_utterances=100):\n",
        "    utterances = []\n",
        "    for i in range(num_utterances):\n",
        "        utterances.append(grammar.rules[0].generate())\n",
        "    return set(utterances)"
      ],
      "metadata": {
        "id": "8_1f7HzSEtsW"
      },
      "execution_count": 33,
      "outputs": []
    },
    {
      "cell_type": "code",
      "source": [
        "# Generate utterances\n",
        "num_utterances_to_generate = 1000  # Adjust the number as needed\n",
        "utterances = generate_utterances(grammar, num_utterances_to_generate)\n",
        "if utterances:\n",
        "    print(\"Utterances generated successfully.\")\n",
        "    print(*utterances, sep='\\n')"
      ],
      "metadata": {
        "colab": {
          "base_uri": "https://localhost:8080/"
        },
        "id": "DzyZO_l9EyQ_",
        "outputId": "bd1e348b-7a13-4ab3-d831-6422e4e1e312"
      },
      "execution_count": 34,
      "outputs": [
        {
          "output_type": "stream",
          "name": "stdout",
          "text": [
            "Utterances generated successfully.\n",
            "can you put on ummagumma by the beatles\n",
            "play comfortably numb\n",
            "play put the beatles\n",
            "play put lady gaga on\n",
            "can you put on ummagumma pink floyd\n",
            "can you play ummagumma lady gaga\n",
            "can you play pink floyd on\n",
            "can you play play me ummagumma pink floyd\n",
            "can you play ummagumma by radiohead\n",
            "can you put on put radiohead\n",
            "play play me ummagumma the beatles\n",
            "can you put on ummagumma lady gaga\n",
            "play play me ummagumma lady gaga\n",
            "play put lady gaga\n",
            "can you put on put pink floyd\n",
            "play lady gaga\n",
            "play jazz music\n",
            "put on put lady gaga on\n",
            "put on let it be\n",
            "can you play play me ummagumma radiohead\n",
            "put on play me ummagumma radiohead\n",
            "can you put on put lady gaga\n",
            "can you play radiohead\n",
            "can you put on play me ummagumma radiohead\n",
            "can you put on play me ummagumma lady gaga\n",
            "put on play me ummagumma lady gaga\n",
            "can you play put radiohead\n",
            "put on i want to listen to jazz\n",
            "can you play play me ummagumma by the beatles\n",
            "put on lady gaga\n",
            "play play me ummagumma by pink floyd\n",
            "put on put pink floyd on\n",
            "can you play put the beatles on\n",
            "put on put the beatles\n",
            "can you put on the beatles\n",
            "play lady gaga on\n",
            "can you put on put the beatles\n",
            "can you play put the beatles\n",
            "put on radiohead\n",
            "put on play me ummagumma by the beatles\n",
            "can you play put radiohead on\n",
            "can you play play me ummagumma by pink floyd\n",
            "can you put on hey jude\n",
            "put on radiohead on\n",
            "can you play put pink floyd\n",
            "can you play paranoid android\n",
            "can you put on play me ummagumma by radiohead\n",
            "can you put on comfortably numb\n",
            "put on play me ummagumma by lady gaga\n",
            "put on put lady gaga\n",
            "play play me ummagumma radiohead\n",
            "can you play radiohead on\n",
            "can you play i want to listen to jazz\n",
            "can you put on i want to listen to jazz music\n",
            "can you play put lady gaga on\n",
            "can you put on i want to listen to jazz\n",
            "play ummagumma by lady gaga\n",
            "put on ummagumma lady gaga\n",
            "can you put on play me ummagumma by the beatles\n",
            "can you play lady gaga on\n",
            "can you play comfortably numb\n",
            "put on jazz\n",
            "play pink floyd\n",
            "play play me ummagumma by the beatles\n",
            "play radiohead\n",
            "put on ummagumma by the beatles\n",
            "play ummagumma the beatles\n",
            "put on hey jude\n",
            "can you play play me ummagumma by lady gaga\n",
            "put on ummagumma by pink floyd\n",
            "play ummagumma by the beatles\n",
            "play put radiohead\n",
            "can you play ummagumma by the beatles\n",
            "can you play jazz\n",
            "can you play ummagumma radiohead\n",
            "put on the beatles on\n",
            "can you play the beatles\n",
            "play put the beatles on\n",
            "put on put radiohead\n",
            "can you put on the beatles on\n",
            "can you put on pink floyd\n",
            "can you put on put radiohead on\n",
            "can you play play me ummagumma by radiohead\n",
            "play paranoid android\n",
            "play pink floyd on\n",
            "can you put on put pink floyd on\n",
            "put on play me ummagumma the beatles\n",
            "play put radiohead on\n",
            "can you play ummagumma by lady gaga\n",
            "can you put on put the beatles on\n",
            "can you play ummagumma the beatles\n",
            "can you put on play me ummagumma the beatles\n",
            "play radiohead on\n",
            "play ummagumma by radiohead\n",
            "can you put on ummagumma radiohead\n",
            "play i want to listen to jazz\n",
            "can you put on put lady gaga on\n",
            "can you put on play me ummagumma by lady gaga\n",
            "play ummagumma radiohead\n",
            "play ummagumma by pink floyd\n",
            "can you put on lady gaga\n",
            "can you play play me ummagumma lady gaga\n",
            "play put pink floyd\n",
            "play play me ummagumma by lady gaga\n",
            "can you play play me ummagumma the beatles\n",
            "can you put on ummagumma by lady gaga\n",
            "put on put pink floyd\n",
            "play let it be\n",
            "play ummagumma lady gaga\n",
            "play jazz\n",
            "can you put on ummagumma the beatles\n",
            "can you play the beatles on\n",
            "can you put on let it be\n",
            "play i want to listen to jazz music\n",
            "can you put on radiohead on\n",
            "can you put on radiohead\n",
            "can you put on paranoid android\n",
            "put on comfortably numb\n",
            "can you play put lady gaga\n",
            "play the beatles on\n",
            "put on ummagumma by lady gaga\n",
            "can you play pink floyd\n",
            "can you play ummagumma pink floyd\n",
            "put on ummagumma the beatles\n",
            "can you put on pink floyd on\n",
            "can you put on ummagumma by pink floyd\n",
            "put on put the beatles on\n",
            "put on the beatles\n",
            "put on lady gaga on\n",
            "can you put on ummagumma by radiohead\n",
            "can you play put pink floyd on\n",
            "play the beatles\n",
            "put on pink floyd on\n",
            "put on jazz music\n",
            "can you play let it be\n",
            "play ummagumma pink floyd\n",
            "put on ummagumma radiohead\n",
            "put on ummagumma by radiohead\n",
            "can you put on play me ummagumma pink floyd\n",
            "put on paranoid android\n",
            "put on play me ummagumma by pink floyd\n",
            "play hey jude\n",
            "put on play me ummagumma pink floyd\n",
            "can you play jazz music\n",
            "can you put on jazz music\n",
            "can you play hey jude\n",
            "can you put on jazz\n",
            "put on put radiohead on\n",
            "can you play lady gaga\n",
            "put on ummagumma pink floyd\n",
            "can you put on lady gaga on\n",
            "put on i want to listen to jazz music\n",
            "can you play i want to listen to jazz music\n",
            "put on play me ummagumma by radiohead\n",
            "put on pink floyd\n",
            "play play me ummagumma by radiohead\n",
            "play play me ummagumma pink floyd\n"
          ]
        }
      ]
    },
    {
      "cell_type": "code",
      "source": [
        "# Function to save utterances to a file\n",
        "def save_utterances(utterances, file_path):\n",
        "    with open(file_path, 'w') as f:\n",
        "        for utter in utterances:\n",
        "            f.write(f\"{utter}\\n\")"
      ],
      "metadata": {
        "id": "uFEIzeqDEzgw"
      },
      "execution_count": 35,
      "outputs": []
    },
    {
      "cell_type": "code",
      "source": [
        "# Save the utterances to a file\n",
        "output_file_path = \"generated_utterances_en.txt\"  # Update with your desired file path\n",
        "save_utterances(utterances, output_file_path)\n",
        "print(\"Utterances saved to file:\", output_file_path)"
      ],
      "metadata": {
        "colab": {
          "base_uri": "https://localhost:8080/"
        },
        "id": "XPH6dfnVE4T_",
        "outputId": "dfe3960b-d74d-4107-a3be-1e652581ca14"
      },
      "execution_count": 36,
      "outputs": [
        {
          "output_type": "stream",
          "name": "stdout",
          "text": [
            "Utterances saved to file: generated_utterances_en.txt\n"
          ]
        }
      ]
    }
  ]
}