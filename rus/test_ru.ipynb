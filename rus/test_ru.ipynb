{
  "nbformat": 4,
  "nbformat_minor": 0,
  "metadata": {
    "colab": {
      "provenance": [],
      "authorship_tag": "ABX9TyPZCZsCeH5LaVHT2LkWd0hv",
      "include_colab_link": true
    },
    "kernelspec": {
      "name": "python3",
      "display_name": "Python 3"
    },
    "language_info": {
      "name": "python"
    }
  },
  "cells": [
    {
      "cell_type": "markdown",
      "metadata": {
        "id": "view-in-github",
        "colab_type": "text"
      },
      "source": [
        "<a href=\"https://colab.research.google.com/github/monkrus/nlp_jsgf_rus/blob/main/test_ru.ipynb\" target=\"_parent\"><img src=\"https://colab.research.google.com/assets/colab-badge.svg\" alt=\"Open In Colab\"/></a>"
      ]
    },
    {
      "cell_type": "code",
      "execution_count": 16,
      "metadata": {
        "colab": {
          "base_uri": "https://localhost:8080/"
        },
        "id": "p9kXnjudc8EE",
        "outputId": "08bb21c1-346e-4fee-8dfa-7436bff266bb"
      },
      "outputs": [
        {
          "output_type": "stream",
          "name": "stdout",
          "text": [
            "Requirement already satisfied: pyjsgf in /usr/local/lib/python3.10/dist-packages (1.9.0)\n",
            "Requirement already satisfied: pyparsing in /usr/local/lib/python3.10/dist-packages (from pyjsgf) (3.1.1)\n",
            "Requirement already satisfied: six in /usr/local/lib/python3.10/dist-packages (from pyjsgf) (1.16.0)\n"
          ]
        }
      ],
      "source": [
        "# Make sure extend.txt is in the same directory as this notebook\n",
        "# Install the necessary package\n",
        "!pip install pyjsgf\n",
        "from jsgf import parse_grammar_string"
      ]
    },
    {
      "cell_type": "code",
      "source": [
        "# Function to load the grammar from a file\n",
        "def load_grammar(file_path):\n",
        "    with open(file_path, 'r') as file:\n",
        "        return file.read()"
      ],
      "metadata": {
        "id": "Wx5Oylq5daSO"
      },
      "execution_count": 17,
      "outputs": []
    },
    {
      "cell_type": "code",
      "source": [
        "# Load the grammar from the file\n",
        "grammar_file_path = \"/content/sample_data/extend_ru.txt\"  # Update with the correct file path\n",
        "grammar_string = load_grammar(grammar_file_path)\n"
      ],
      "metadata": {
        "id": "5EZJ-bwoKaMo"
      },
      "execution_count": 18,
      "outputs": []
    },
    {
      "cell_type": "code",
      "source": [
        "# Function to parse the grammar from a string\n",
        "def parse_grammar(grammar_string):\n",
        "    try:\n",
        "        return parse_grammar_string(grammar_string)\n",
        "    except Exception as e:\n",
        "        print(f\"Unable to parse grammar: {e}\")\n",
        "        return None"
      ],
      "metadata": {
        "id": "jUujEJctEDD4"
      },
      "execution_count": 19,
      "outputs": []
    },
    {
      "cell_type": "code",
      "source": [
        "# Load the grammar string\n",
        "grammar_file_path = \"/content/sample_data/extend_ru.txt\"  # Replace with your actual file path\n",
        "grammar_string = load_grammar(grammar_file_path)\n",
        "if grammar_string:\n",
        "    print(\"Grammar string loaded successfully.\")\n"
      ],
      "metadata": {
        "colab": {
          "base_uri": "https://localhost:8080/"
        },
        "id": "NIa73aqIEDH2",
        "outputId": "d0cd1c82-8836-4234-9a45-27ec0c5b12ed"
      },
      "execution_count": 20,
      "outputs": [
        {
          "output_type": "stream",
          "name": "stdout",
          "text": [
            "Grammar string loaded successfully.\n"
          ]
        }
      ]
    },
    {
      "cell_type": "code",
      "source": [
        "# Parse the grammar\n",
        "grammar = parse_grammar(grammar_string)\n",
        "if grammar:\n",
        "    print(\"Grammar parsed successfully.\")\n",
        "\n"
      ],
      "metadata": {
        "colab": {
          "base_uri": "https://localhost:8080/"
        },
        "id": "QqV0eweQEDLk",
        "outputId": "c2344e86-a4a5-45c1-8915-09437597694e"
      },
      "execution_count": 21,
      "outputs": [
        {
          "output_type": "stream",
          "name": "stdout",
          "text": [
            "Grammar parsed successfully.\n"
          ]
        }
      ]
    },
    {
      "cell_type": "code",
      "source": [
        "# Function to generate utterances\n",
        "def generate_utterances(grammar, num_utterances=100):\n",
        "    utterances = []\n",
        "    for i in range(num_utterances):\n",
        "        utterances.append(grammar.rules[0].generate())\n",
        "    return set(utterances)"
      ],
      "metadata": {
        "id": "Y4LwPRorEDUk"
      },
      "execution_count": 22,
      "outputs": []
    },
    {
      "cell_type": "code",
      "source": [
        "# Generate utterances\n",
        "num_utterances_to_generate = 100  # Adjust the number as needed\n",
        "utterances = generate_utterances(grammar, num_utterances_to_generate)\n",
        "if utterances:\n",
        "    print(\"Utterances generated successfully.\")\n",
        "    print(*utterances, sep='\\n')"
      ],
      "metadata": {
        "colab": {
          "base_uri": "https://localhost:8080/"
        },
        "id": "6OlnZcA6EDXf",
        "outputId": "919e8429-0f41-45e9-b3af-b28b529ef6e4"
      },
      "execution_count": 23,
      "outputs": [
        {
          "output_type": "stream",
          "name": "stdout",
          "text": [
            "Utterances generated successfully.\n",
            "можешь ли включи комфортабли намб\n",
            "ты можешь врубить леди гага\n",
            "играть песни о любви бибер\n",
            "забацай хей джуд\n",
            "вруби я хочу послушать рок\n",
            "вруби поп музыку\n",
            "можешь ли играй билли джин\n",
            "включи воспроизведи мне любовные песни пинк флойд\n",
            "ты можешь включи поп музыку\n",
            "можешь ли играть проиграй фристайл-баттлы от бибер\n",
            "играй классику\n",
            "поставь фристайл-баттлы открой пинк флойд\n",
            "можешь ли забацай хей джуд\n",
            "ты можешь поставь пинк флойд\n",
            "ты можешь поставь пусть будет так\n",
            "можешь ли включить чилаут музыку\n",
            "врубить уммагумма открой радиохэд\n",
            "играть комфортабли намб\n",
            "поставь билли джин\n",
            "ты можешь играй давай чилаут-микс джексона\n",
            "ты можешь играть песни о любви леди гага\n",
            "ты можешь врубить рока\n",
            "можешь ли играть пинк флойда\n",
            "ты можешь включить я хочу послушать музыку музыку\n",
            "ты можешь поставь параноид андроид\n",
            "ты можешь включи кинь мне хип-хоп\n",
            "ты можешь забацай включи фристайл-баттлы джексона\n",
            "можешь ли включи радиохэд\n",
            "можешь ли играть пинк флойд\n",
            "играть уммагумма открой битлз\n",
            "ты можешь играть джексон\n",
            "ты можешь врубить билли джин\n",
            "поставь давай фристайл-баттлы открой джексона\n",
            "включи хей джуд\n",
            "можешь ли включить я хочу послушать басы музыку\n",
            "включи кинь мне поп\n",
            "вруби пусть будет так\n",
            "играть я хочу послушать хип-хоп\n",
            "поставь хочу послушать басы\n",
            "поставь включи любовные песни пинк флойд\n",
            "играй музыку музыку\n",
            "ты можешь включить пинк флойда\n",
            "можешь ли забацай проиграй уммагумма радиохэд\n",
            "можешь ли включить джексона\n",
            "врубить проиграй уммагумма леди гага\n",
            "можешь ли включи фристайл-баттлы от радиохэд\n",
            "можешь ли включить хей джуд\n",
            "врубить хочу послушать музыку\n",
            "можешь ли играть джаз музыку\n",
            "играй электро\n",
            "забацай музыку\n",
            "забацай классическую\n",
            "можешь ли играть фристайл-баттлы битлы\n"
          ]
        }
      ]
    },
    {
      "cell_type": "code",
      "source": [
        "# Function to save utterances to a file\n",
        "def save_utterances(utterances, file_path):\n",
        "    with open(file_path, 'w') as f:\n",
        "        for utter in utterances:\n",
        "            f.write(f\"{utter}\\n\")"
      ],
      "metadata": {
        "id": "koTl4MiocTAx"
      },
      "execution_count": 24,
      "outputs": []
    },
    {
      "cell_type": "code",
      "source": [
        "# Save the utterances to a file\n",
        "output_file_path = \"mock_generated_utterances_ru.txt\"  # Update with your desired file path\n",
        "save_utterances(utterances, output_file_path)\n",
        "print(\"Utterances saved to file:\", output_file_path)"
      ],
      "metadata": {
        "colab": {
          "base_uri": "https://localhost:8080/"
        },
        "id": "LHKvQn0RcZXi",
        "outputId": "577f2863-23a7-4d33-c71f-3a39e6654d03"
      },
      "execution_count": 25,
      "outputs": [
        {
          "output_type": "stream",
          "name": "stdout",
          "text": [
            "Utterances saved to file: mock_generated_utterances_ru.txt\n"
          ]
        }
      ]
    }
  ]
}