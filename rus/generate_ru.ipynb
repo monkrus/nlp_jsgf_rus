{
  "nbformat": 4,
  "nbformat_minor": 0,
  "metadata": {
    "colab": {
      "provenance": [],
      "toc_visible": true,
      "authorship_tag": "ABX9TyMKeVI+hQ/RtP1/i6U9IZ5Q",
      "include_colab_link": true
    },
    "kernelspec": {
      "name": "python3",
      "display_name": "Python 3"
    },
    "language_info": {
      "name": "python"
    }
  },
  "cells": [
    {
      "cell_type": "markdown",
      "metadata": {
        "id": "view-in-github",
        "colab_type": "text"
      },
      "source": [
        "<a href=\"https://colab.research.google.com/github/monkrus/nlp_jsgf_rus/blob/main/generate_ru.ipynb\" target=\"_parent\"><img src=\"https://colab.research.google.com/assets/colab-badge.svg\" alt=\"Open In Colab\"/></a>"
      ]
    },
    {
      "cell_type": "code",
      "execution_count": 13,
      "metadata": {
        "id": "Wh2T7fiMY3gv",
        "colab": {
          "base_uri": "https://localhost:8080/"
        },
        "outputId": "305eb843-e20d-4a0a-ff57-d0b506be4594"
      },
      "outputs": [
        {
          "output_type": "stream",
          "name": "stdout",
          "text": [
            "Requirement already satisfied: pyjsgf in /usr/local/lib/python3.10/dist-packages (1.9.0)\n",
            "Requirement already satisfied: pyparsing in /usr/local/lib/python3.10/dist-packages (from pyjsgf) (3.1.1)\n",
            "Requirement already satisfied: six in /usr/local/lib/python3.10/dist-packages (from pyjsgf) (1.16.0)\n"
          ]
        }
      ],
      "source": [
        "# install packages\n",
        "!pip install pyjsgf\n",
        "from jsgf import parse_grammar_string\n"
      ]
    },
    {
      "cell_type": "code",
      "source": [
        "# Function to load the grammar from a file\n",
        "def load_grammar(file_path):\n",
        "    with open(file_path, 'r') as file:\n",
        "        return file.read()\n"
      ],
      "metadata": {
        "id": "1ba4LNoaOVML"
      },
      "execution_count": 14,
      "outputs": []
    },
    {
      "cell_type": "code",
      "source": [
        "# Load the grammar from the file\n",
        "grammar_file_path = \"/content/sample_data/extend_rus.txt\"  # Update with the correct file path\n",
        "grammar_string = load_grammar(grammar_file_path)\n"
      ],
      "metadata": {
        "id": "99WBOVquZwIF"
      },
      "execution_count": 15,
      "outputs": []
    },
    {
      "cell_type": "code",
      "source": [
        "# Function to parse the grammar from a string\n",
        "def parse_grammar(grammar_string):\n",
        "    try:\n",
        "        return parse_grammar_string(grammar_string)\n",
        "    except Exception as e:\n",
        "        print(f\"Unable to parse grammar: {e}\")\n",
        "        return None\n"
      ],
      "metadata": {
        "id": "3NJxVcotNAGP"
      },
      "execution_count": 16,
      "outputs": []
    },
    {
      "cell_type": "code",
      "source": [
        "# Parse the grammar\n",
        "grammar = parse_grammar(grammar_string)\n",
        "if grammar:\n",
        "    print(\"Grammar parsed successfully.\")\n"
      ],
      "metadata": {
        "colab": {
          "base_uri": "https://localhost:8080/"
        },
        "id": "u-eB1QfIEpwe",
        "outputId": "b12fa05a-deb5-4514-b206-1af2e3cfce09"
      },
      "execution_count": 17,
      "outputs": [
        {
          "output_type": "stream",
          "name": "stdout",
          "text": [
            "Grammar parsed successfully.\n"
          ]
        }
      ]
    },
    {
      "cell_type": "code",
      "source": [
        "# Function to generate utterances\n",
        "def generate_utterances(grammar, num_utterances=100):\n",
        "    utterances = []\n",
        "    for i in range(num_utterances):\n",
        "        utterances.append(grammar.rules[0].generate())\n",
        "    return set(utterances)"
      ],
      "metadata": {
        "id": "8_1f7HzSEtsW"
      },
      "execution_count": 18,
      "outputs": []
    },
    {
      "cell_type": "code",
      "source": [
        "# Generate utterances\n",
        "num_utterances_to_generate = 100  # Adjust the number as needed\n",
        "utterances = generate_utterances(grammar, num_utterances_to_generate)\n",
        "if utterances:\n",
        "    print(\"Utterances generated successfully.\")\n",
        "    print(*utterances, sep='\\n')"
      ],
      "metadata": {
        "colab": {
          "base_uri": "https://localhost:8080/"
        },
        "id": "DzyZO_l9EyQ_",
        "outputId": "73694d63-de31-44e5-f6ff-02d611a854ad"
      },
      "execution_count": 19,
      "outputs": [
        {
          "output_type": "stream",
          "name": "stdout",
          "text": [
            "Utterances generated successfully.\n",
            "можешь ли играй битлы\n",
            "ты можешь включи проиграй хиты от леди гага\n",
            "играть пусть будет так\n",
            "можешь ли врубить джексона\n",
            "забацай я хочу послушать хип-хоп\n",
            "играй рока музыку\n",
            "вруби битлы\n",
            "включить параноид андроид\n",
            "вруби трэп\n",
            "играй музыку\n",
            "включи чилаут-микс бибера\n",
            "врубить пинк флойд\n",
            "ты можешь забацай трэп\n",
            "можешь ли поставь чилаут-микс леди гага\n",
            "ты можешь поставь поп музыку\n",
            "включи трэп\n",
            "можешь ли поставь хочу послушать трэп музыку\n",
            "играй фристайл-баттлы леди гага\n",
            "врубить джексон\n",
            "ты можешь забацай хип-хоп музыку\n",
            "ты можешь играть джексон\n",
            "поставь давай чилаут-микс джексона\n",
            "ты можешь вруби я хочу послушать электро\n",
            "ты можешь врубить бибера\n",
            "ты можешь забацай хочу послушать чилаут музыку\n",
            "включить битлз\n",
            "играй классику\n",
            "включить любовные песни от джексон\n",
            "врубить включи хиты открой пинк флойда\n",
            "можешь ли включи давай чилаут-микс леди гага\n",
            "можешь ли забацай классику\n",
            "ты можешь забацай поставь лучшие хиты пинк флойд\n",
            "забацай кинь мне басы\n",
            "включить хочу послушать классику\n",
            "играть билли джин\n",
            "можешь ли играй кинь мне электро\n",
            "забацай бибер\n",
            "вруби битлз\n",
            "врубить трэп музыку\n",
            "врубить уммагумма джексон\n",
            "ты можешь врубить пинк флойд\n",
            "играть песни о любви радиохэд\n",
            "включить любовные песни открой джексон\n",
            "врубить бибера\n",
            "можешь ли вруби включи песни о любви от битлы\n",
            "забацай классическую музыку\n",
            "ты можешь поставь проиграй уммагумма открой леди гага\n",
            "играть комфортабли намб\n",
            "вруби включи хиты от радиохэд\n",
            "включи классическую\n",
            "ты можешь забацай фристайл-баттлы открой пинк флойда\n"
          ]
        }
      ]
    },
    {
      "cell_type": "code",
      "source": [
        "# Function to save utterances to a file\n",
        "def save_utterances(utterances, file_path):\n",
        "    with open(file_path, 'w') as f:\n",
        "        for utter in utterances:\n",
        "            f.write(f\"{utter}\\n\")"
      ],
      "metadata": {
        "id": "uFEIzeqDEzgw"
      },
      "execution_count": 20,
      "outputs": []
    },
    {
      "cell_type": "code",
      "source": [
        "# Save the utterances to a file\n",
        "output_file_path = \"generated_utterances_ru.txt\"  # Update with your desired file path\n",
        "save_utterances(utterances, output_file_path)\n",
        "print(\"Utterances saved to file:\", output_file_path)"
      ],
      "metadata": {
        "colab": {
          "base_uri": "https://localhost:8080/"
        },
        "id": "XPH6dfnVE4T_",
        "outputId": "3870fb55-f85c-4aa5-8503-ca96b5857d11"
      },
      "execution_count": 21,
      "outputs": [
        {
          "output_type": "stream",
          "name": "stdout",
          "text": [
            "Utterances saved to file: generated_utterances_ru.txt\n"
          ]
        }
      ]
    }
  ]
}