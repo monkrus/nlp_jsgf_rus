{
  "nbformat": 4,
  "nbformat_minor": 0,
  "metadata": {
    "colab": {
      "provenance": [],
      "authorship_tag": "ABX9TyPbgqyWhzr033SvVRa2+5fo",
      "include_colab_link": true
    },
    "kernelspec": {
      "name": "python3",
      "display_name": "Python 3"
    },
    "language_info": {
      "name": "python"
    }
  },
  "cells": [
    {
      "cell_type": "markdown",
      "metadata": {
        "id": "view-in-github",
        "colab_type": "text"
      },
      "source": [
        "<a href=\"https://colab.research.google.com/github/monkrus/nlp_jsgf_rus/blob/main/Generate.ipynb\" target=\"_parent\"><img src=\"https://colab.research.google.com/assets/colab-badge.svg\" alt=\"Open In Colab\"/></a>"
      ]
    },
    {
      "cell_type": "code",
      "execution_count": 148,
      "metadata": {
        "id": "Wh2T7fiMY3gv",
        "colab": {
          "base_uri": "https://localhost:8080/"
        },
        "outputId": "f8e0d4e0-dfba-4908-9d41-de4b6c8a6d7d"
      },
      "outputs": [
        {
          "output_type": "stream",
          "name": "stdout",
          "text": [
            "Requirement already satisfied: pyjsgf in /usr/local/lib/python3.10/dist-packages (1.9.0)\n",
            "Requirement already satisfied: pyparsing in /usr/local/lib/python3.10/dist-packages (from pyjsgf) (3.1.1)\n",
            "Requirement already satisfied: six in /usr/local/lib/python3.10/dist-packages (from pyjsgf) (1.16.0)\n"
          ]
        }
      ],
      "source": [
        "# install packages\n",
        "!pip install pyjsgf\n"
      ]
    },
    {
      "cell_type": "code",
      "source": [
        "from jsgf import parse_grammar_string\n",
        "\n",
        "# parse the grammar and print the rules function\n",
        "def print_rules(grammar):\n",
        "    print(\"Rules:\")\n",
        "    for i, rule in enumerate(grammar.rules):\n",
        "        print(f\"{i+1}. {rule.name}\")\n",
        "\n",
        "# parse the grammar\n",
        "grammar = parse_grammar(grammar_string)\n",
        "if grammar:\n",
        "    print_rules(grammar)"
      ],
      "metadata": {
        "colab": {
          "base_uri": "https://localhost:8080/"
        },
        "id": "1ba4LNoaOVML",
        "outputId": "5e39d661-bbd4-435d-a1a9-b5474ac3be09"
      },
      "execution_count": 149,
      "outputs": [
        {
          "output_type": "stream",
          "name": "stdout",
          "text": [
            "Rules:\n",
            "1. music_play\n",
            "2. artist\n",
            "3. song\n",
            "4. genre\n",
            "5. album\n"
          ]
        }
      ]
    },
    {
      "cell_type": "code",
      "source": [
        "# function to generate utterances\n",
        "def generate_utterances(grammar, num_utterances=100):\n",
        "    utterances = []\n",
        "    for i in range(num_utterances):\n",
        "        utterances.append(grammar.rules[0].generate())\n",
        "    return set(utterances)\n",
        "\n",
        "# generate utterances and print them\n",
        "utterances = generate_utterances(grammar, num_utterances=1000)\n",
        "print(*utterances, sep='\\n')"
      ],
      "metadata": {
        "id": "99WBOVquZwIF",
        "colab": {
          "base_uri": "https://localhost:8080/"
        },
        "outputId": "97753c3e-4753-4e63-974b-6eb185420537"
      },
      "execution_count": 150,
      "outputs": [
        {
          "output_type": "stream",
          "name": "stdout",
          "text": [
            "play radiohead\n",
            "put on play me ummagumma by the beatles\n",
            "play put pink floyd\n",
            "put on lady gaga\n",
            "put on radiohead\n",
            "play ummagumma by radiohead\n",
            "can you play lady gaga on\n",
            "put on the beatles on\n",
            "can you put on ummagumma lady gaga\n",
            "put on ummagumma pink floyd\n",
            "can you play put lady gaga\n",
            "can you play let it be\n",
            "put on put lady gaga\n",
            "can you play ummagumma by lady gaga\n",
            "put on play me ummagumma the beatles\n",
            "can you play comfortably numb\n",
            "can you play hey jude\n",
            "can you play the beatles on\n",
            "can you play ummagumma by pink floyd\n",
            "play paranoid android\n",
            "can you put on put lady gaga on\n",
            "play play me ummagumma pink floyd\n",
            "can you put on put radiohead on\n",
            "put on put lady gaga on\n",
            "put on i want to listen to jazz\n",
            "can you put on ummagumma by the beatles\n",
            "play put the beatles\n",
            "put on lady gaga on\n",
            "put on play me ummagumma by radiohead\n",
            "can you play radiohead on\n",
            "play the beatles\n",
            "put on ummagumma radiohead\n",
            "can you play pink floyd on\n",
            "can you play ummagumma by radiohead\n",
            "can you put on ummagumma by lady gaga\n",
            "play put pink floyd on\n",
            "play play me ummagumma by pink floyd\n",
            "play put lady gaga\n",
            "play play me ummagumma radiohead\n",
            "can you play put pink floyd on\n",
            "play put the beatles on\n",
            "can you put on put the beatles\n",
            "play ummagumma pink floyd\n",
            "put on radiohead on\n",
            "can you put on put pink floyd\n",
            "put on ummagumma by the beatles\n",
            "can you put on pink floyd\n",
            "can you play ummagumma pink floyd\n",
            "can you put on jazz\n",
            "can you play play me ummagumma the beatles\n",
            "can you put on lady gaga on\n",
            "can you put on radiohead on\n",
            "play ummagumma lady gaga\n",
            "put on the beatles\n",
            "put on pink floyd on\n",
            "can you put on i want to listen to jazz music\n",
            "play comfortably numb\n",
            "can you play radiohead\n",
            "play lady gaga\n",
            "can you put on ummagumma by radiohead\n",
            "can you play ummagumma by the beatles\n",
            "play ummagumma by the beatles\n",
            "can you put on ummagumma the beatles\n",
            "play play me ummagumma by lady gaga\n",
            "put on play me ummagumma radiohead\n",
            "put on ummagumma by pink floyd\n",
            "can you play put radiohead\n",
            "play radiohead on\n",
            "put on put radiohead\n",
            "can you put on put the beatles on\n",
            "can you play paranoid android\n",
            "put on ummagumma by radiohead\n",
            "can you put on pink floyd on\n",
            "can you play put the beatles on\n",
            "put on ummagumma lady gaga\n",
            "can you play play me ummagumma by lady gaga\n",
            "can you play i want to listen to jazz music\n",
            "can you play play me ummagumma radiohead\n",
            "put on put pink floyd on\n",
            "put on put the beatles on\n",
            "put on play me ummagumma by pink floyd\n",
            "put on play me ummagumma pink floyd\n",
            "can you put on play me ummagumma pink floyd\n",
            "can you put on play me ummagumma by lady gaga\n",
            "can you play play me ummagumma pink floyd\n",
            "put on play me ummagumma by lady gaga\n",
            "play put radiohead\n",
            "put on put radiohead on\n",
            "can you play lady gaga\n",
            "can you put on play me ummagumma by radiohead\n",
            "can you put on the beatles\n",
            "play play me ummagumma the beatles\n",
            "play jazz music\n",
            "put on jazz\n",
            "can you play put pink floyd\n",
            "can you play pink floyd\n",
            "can you play play me ummagumma by pink floyd\n",
            "can you put on lady gaga\n",
            "put on hey jude\n",
            "play hey jude\n",
            "put on paranoid android\n",
            "play ummagumma the beatles\n",
            "play ummagumma radiohead\n",
            "play jazz\n",
            "play put lady gaga on\n",
            "can you put on play me ummagumma the beatles\n",
            "put on comfortably numb\n",
            "put on ummagumma by lady gaga\n",
            "can you put on hey jude\n",
            "can you put on ummagumma radiohead\n",
            "play ummagumma by pink floyd\n",
            "can you put on put radiohead\n",
            "play put radiohead on\n",
            "play play me ummagumma by radiohead\n",
            "can you play ummagumma lady gaga\n",
            "can you put on comfortably numb\n",
            "play play me ummagumma by the beatles\n",
            "play ummagumma by lady gaga\n",
            "can you play play me ummagumma lady gaga\n",
            "can you play play me ummagumma by the beatles\n",
            "put on ummagumma the beatles\n",
            "can you put on play me ummagumma by pink floyd\n",
            "put on pink floyd\n",
            "play i want to listen to jazz music\n",
            "can you play put lady gaga on\n",
            "can you put on put pink floyd on\n",
            "can you put on jazz music\n",
            "can you play put the beatles\n",
            "can you put on put lady gaga\n",
            "can you put on ummagumma by pink floyd\n",
            "play pink floyd on\n",
            "can you play play me ummagumma by radiohead\n",
            "play i want to listen to jazz\n",
            "put on jazz music\n",
            "put on put the beatles\n",
            "put on let it be\n",
            "can you put on play me ummagumma lady gaga\n",
            "can you play jazz music\n",
            "can you put on i want to listen to jazz\n",
            "can you put on play me ummagumma by the beatles\n",
            "can you put on play me ummagumma radiohead\n",
            "put on put pink floyd\n",
            "put on i want to listen to jazz music\n",
            "can you play i want to listen to jazz\n",
            "can you put on ummagumma pink floyd\n",
            "can you play the beatles\n",
            "can you play ummagumma the beatles\n",
            "can you put on radiohead\n",
            "play pink floyd\n",
            "play play me ummagumma lady gaga\n",
            "can you play ummagumma radiohead\n",
            "can you put on the beatles on\n",
            "can you put on paranoid android\n",
            "can you play jazz\n",
            "put on play me ummagumma lady gaga\n",
            "play the beatles on\n",
            "play lady gaga on\n",
            "play let it be\n",
            "can you put on let it be\n",
            "can you play put radiohead on\n"
          ]
        }
      ]
    },
    {
      "cell_type": "code",
      "source": [
        "# function to save utterances\n",
        "def save_utterances(utterances, file_path):\n",
        "    with open(file_path, 'w') as f:\n",
        "        for utter in utterances:\n",
        "            f.write(f\"{utter}\\n\")\n",
        "\n",
        "# Save the utterances to a file\n",
        "output_file = \"generated_utterances_en.txt\"\n",
        "save_utterances(utterances, output_file)"
      ],
      "metadata": {
        "id": "3NJxVcotNAGP"
      },
      "execution_count": 151,
      "outputs": []
    }
  ]
}